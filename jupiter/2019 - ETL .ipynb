{
 "cells": [
  {
   "cell_type": "code",
   "execution_count": 1,
   "metadata": {},
   "outputs": [],
   "source": [
    "import pandas as pd\n",
    "%load_ext autoreload\n",
    "%autoreload 2\n",
    "import utils\n",
    "import warnings\n",
    "warnings.filterwarnings(\"ignore\")"
   ]
  },
  {
   "cell_type": "code",
   "execution_count": 2,
   "metadata": {},
   "outputs": [],
   "source": [
    "# Lista para almacenar DataFrames mensuales\n",
    "dataframes_mensuales = []\n",
    "\n",
    "# Iterar a través de cada mes de enero a diciembre\n",
    "for mes in range(1, 13):\n",
    "    # Formatear el mes como una cadena de dos dígitos (por ejemplo, '01' para enero)\n",
    "    mes_formateado = f'{mes:02d}'\n",
    "    \n",
    "    # Construir la ruta del archivo para cada mes\n",
    "    ruta_archivo = f'../data/2019/dnrpa-robos-recuperos-autos-2019{mes_formateado}.csv'\n",
    "    \n",
    "    # Leer el archivo CSV y añadir el DataFrame a la lista\n",
    "    dataframes_mensuales.append(pd.read_csv(ruta_archivo))\n",
    "\n",
    "# Concatenar todos los DataFrames mensuales en un solo DataFrame\n",
    "data_2019 = pd.concat(dataframes_mensuales, ignore_index=True)"
   ]
  },
  {
   "cell_type": "code",
   "execution_count": 3,
   "metadata": {},
   "outputs": [
    {
     "name": "stdout",
     "output_type": "stream",
     "text": [
      "<class 'pandas.core.frame.DataFrame'>\n",
      "RangeIndex: 36836 entries, 0 to 36835\n",
      "Data columns (total 27 columns):\n",
      " #   Column                                Non-Null Count  Dtype  \n",
      "---  ------                                --------------  -----  \n",
      " 0   tramite_tipo                          36836 non-null  object \n",
      " 1   tramite_fecha                         36836 non-null  object \n",
      " 2   fecha_inscripcion_inicial             36835 non-null  object \n",
      " 3   registro_seccional_codigo             36836 non-null  int64  \n",
      " 4   registro_seccional_descripcion        36836 non-null  object \n",
      " 5   registro_seccional_provincia          36836 non-null  object \n",
      " 6   automotor_origen                      36836 non-null  object \n",
      " 7   automotor_anio_modelo                 36676 non-null  float64\n",
      " 8   automotor_tipo_codigo                 35260 non-null  float64\n",
      " 9   automotor_tipo_descripcion            36836 non-null  object \n",
      " 10  automotor_marca_codigo                36058 non-null  object \n",
      " 11  automotor_marca_descripcion           36836 non-null  object \n",
      " 12  automotor_modelo_codigo               35976 non-null  object \n",
      " 13  automotor_modelo_descripcion          36836 non-null  object \n",
      " 14  automotor_uso_codigo                  36835 non-null  float64\n",
      " 15  automotor_uso_descripcion             36835 non-null  object \n",
      " 16  titular_tipo_persona                  36836 non-null  object \n",
      " 17  titular_domicilio_localidad           36784 non-null  object \n",
      " 18  titular_domicilio_provincia           36836 non-null  object \n",
      " 19  titular_genero                        36836 non-null  object \n",
      " 20  titular_anio_nacimiento               36825 non-null  float64\n",
      " 21  titular_pais_nacimiento               36836 non-null  object \n",
      " 22  titular_porcentaje_titularidad        36836 non-null  int64  \n",
      " 23  titular_domicilio_provincia_indec_id  9220 non-null   float64\n",
      " 24  titular_pais_nacimiento_indec_id      8562 non-null   object \n",
      " 25  titular_domicilio_provincia_id        27616 non-null  float64\n",
      " 26  titular_pais_nacimiento_id            25567 non-null  object \n",
      "dtypes: float64(6), int64(2), object(19)\n",
      "memory usage: 7.6+ MB\n"
     ]
    }
   ],
   "source": [
    "data_2019.info()"
   ]
  },
  {
   "cell_type": "code",
   "execution_count": 4,
   "metadata": {},
   "outputs": [],
   "source": [
    "data_2019.to_csv('../data/2019.csv', index=False)"
   ]
  }
 ],
 "metadata": {
  "kernelspec": {
   "display_name": "base",
   "language": "python",
   "name": "python3"
  },
  "language_info": {
   "codemirror_mode": {
    "name": "ipython",
    "version": 3
   },
   "file_extension": ".py",
   "mimetype": "text/x-python",
   "name": "python",
   "nbconvert_exporter": "python",
   "pygments_lexer": "ipython3",
   "version": "3.11.5"
  }
 },
 "nbformat": 4,
 "nbformat_minor": 2
}
